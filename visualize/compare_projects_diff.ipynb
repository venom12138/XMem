{
 "cells": [
  {
   "cell_type": "code",
   "execution_count": 11,
   "metadata": {},
   "outputs": [],
   "source": [
    "import pandas as pd\n",
    "import numpy as np\n",
    "csv_name1 = '/u/ryanxli/.exp/0925_state_change_segm/1005_new_valdata_use_test_to_train/D0079_no_align,use_text=0,use_flow=0/eval_8000/per-sequence_results-val.csv'\n",
    "csv_name2 = '/u/ryanxli/.exp/0925_state_change_segm/1005_new_valdata_use_test_to_train/D0078_no_align,use_text=1,use_flow=1/eval_8000/per-sequence_results-val.csv'"
   ]
  },
  {
   "cell_type": "code",
   "execution_count": 12,
   "metadata": {},
   "outputs": [
    {
     "name": "stdout",
     "output_type": "stream",
     "text": [
      "       narration                 Sequence_x  J-Mean_x  F-Mean_x  J-Mean_y  \\\n",
      "96  P29_05_376_1                chop potato     0.257     0.534     0.713   \n",
      "77   P28_16_26_1    continue chopping onion     0.337     0.648     0.765   \n",
      "42  P08_16_100_1                 break eggs     0.331     0.506     0.615   \n",
      "62   P18_03_80_1     still cutting cucumber     0.360     0.607     0.631   \n",
      "57   P15_04_11_1               cut potatoes     0.453     0.690     0.676   \n",
      "..           ...                        ...       ...       ...       ...   \n",
      "83   P28_24_13_1                chop tomato     0.671     0.939     0.237   \n",
      "51   P11_20_37_1   pour fishcakes onto foil     0.516     0.541     0.038   \n",
      "14   P01_14_93_1  continue dicing aubergine     0.614     0.783     0.133   \n",
      "31   P06_10_51_1               chop carrots     0.742     0.844     0.260   \n",
      "29   P04_31_84_1              chop broccoli     0.829     0.937     0.248   \n",
      "\n",
      "    F-Mean_y    J_diff    F_diff  \n",
      "96     0.916  0.456055  0.382080  \n",
      "77     0.942  0.427979  0.293945  \n",
      "42     0.784  0.283936  0.278076  \n",
      "62     0.853  0.270996  0.245972  \n",
      "57     0.909  0.223022  0.218994  \n",
      "..       ...       ...       ...  \n",
      "83     0.436 -0.434082 -0.502930  \n",
      "51     0.097 -0.478027 -0.444092  \n",
      "14     0.304 -0.480957 -0.479004  \n",
      "31     0.525 -0.481934 -0.319092  \n",
      "29     0.410 -0.581055 -0.526855  \n",
      "\n",
      "[98 rows x 8 columns]\n",
      "----\n"
     ]
    }
   ],
   "source": [
    "csv1 = pd.read_csv(csv_name1)\n",
    "csv2 = pd.read_csv(csv_name2)\n",
    "data_merge = pd.merge(csv1, csv2, on='narration', how='outer')\n",
    "data_merge = data_merge.drop(columns='Sequence_y')\n",
    "data_merge.fillna(0, inplace=True)\n",
    "data_merge['J_diff'] = data_merge['J-Mean_y'] - data_merge['J-Mean_x'] # csv2-csv1\n",
    "data_merge['F_diff'] = data_merge['F-Mean_y'] - data_merge['F-Mean_x'] # csv2-csv1\n",
    "data_merge = data_merge.sort_values(by='J_diff', ascending=False)\n",
    "\n",
    "data_merge[['J_diff', 'F_diff']] = data_merge[['J_diff', 'F_diff']].astype('float16')\n",
    "\n",
    "data_merge.to_csv('./csv1=D0079_no_align,use_text=0,use_flow=0_eval_8000,csv2=D0078_no_align,use_text=1,use_flow=1_eval_8000.csv', index=False)\n",
    "print(data_merge)\n",
    "print('----')\n",
    "# print(csv1)"
   ]
  }
 ],
 "metadata": {
  "kernelspec": {
   "display_name": "Python 3.9.12 ('base')",
   "language": "python",
   "name": "python3"
  },
  "language_info": {
   "codemirror_mode": {
    "name": "ipython",
    "version": 3
   },
   "file_extension": ".py",
   "mimetype": "text/x-python",
   "name": "python",
   "nbconvert_exporter": "python",
   "pygments_lexer": "ipython3",
   "version": "3.9.12"
  },
  "orig_nbformat": 4,
  "vscode": {
   "interpreter": {
    "hash": "056f8a45509a31da689d20c304d86173f0332a18ebbf0f9ac5f5a8be24135e03"
   }
  }
 },
 "nbformat": 4,
 "nbformat_minor": 2
}
